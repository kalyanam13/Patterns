{
 "cells": [
  {
   "cell_type": "code",
   "execution_count": 7,
   "id": "84816ea7-19d7-445e-88b2-b725903add2a",
   "metadata": {},
   "outputs": [
    {
     "name": "stdin",
     "output_type": "stream",
     "text": [
      "Enter your number : 5\n"
     ]
    },
    {
     "name": "stdout",
     "output_type": "stream",
     "text": [
      "* * * * * \n",
      "* * * * * \n",
      "* * * * * \n",
      "* * * * * \n",
      "* * * * * \n"
     ]
    }
   ],
   "source": [
    "\n",
    "n = int(input(\"Enter your number :\"))\n",
    "def void(n):\n",
    "    for i in range(1,n+1):\n",
    "        for j in range(1,n+1):\n",
    "            print(\"*\",end=\" \")\n",
    "        print()\n",
    "\n",
    "\n",
    "void(n)\n"
   ]
  },
  {
   "cell_type": "code",
   "execution_count": 8,
   "id": "8bac8aa6-5a12-48ee-adf4-70f19e752cc7",
   "metadata": {},
   "outputs": [
    {
     "name": "stdin",
     "output_type": "stream",
     "text": [
      "Enter your number:  5\n"
     ]
    },
    {
     "name": "stdout",
     "output_type": "stream",
     "text": [
      "* \n",
      "* * \n",
      "* * * \n",
      "* * * * \n",
      "* * * * * \n",
      "* * * * * * \n"
     ]
    }
   ],
   "source": [
    "n = int(input(\"Enter your number: \"))\n",
    "\n",
    "def print_pattern(n):\n",
    "    for i in range(n+1):\n",
    "        for j in range(i+1):\n",
    "            print(\"*\", end=\" \")\n",
    "        print()\n",
    "\n",
    "print_pattern(n)"
   ]
  },
  {
   "cell_type": "code",
   "execution_count": 1,
   "id": "509a50ac-78b6-4b46-85c6-97b63f8c1aa2",
   "metadata": {},
   "outputs": [
    {
     "name": "stdin",
     "output_type": "stream",
     "text": [
      "Enter Your Number: 5\n"
     ]
    },
    {
     "name": "stdout",
     "output_type": "stream",
     "text": [
      "1 \n",
      "1 2 \n",
      "1 2 3 \n",
      "1 2 3 4 \n",
      "1 2 3 4 5 \n"
     ]
    }
   ],
   "source": [
    "n = int(input(\"Enter Your Number:\"))\n",
    "def print_pattern(n):\n",
    "    for i in range(1,n+1):\n",
    "        for j in range(1,i+1):\n",
    "            print(j,end=\" \")\n",
    "        print()\n",
    "\n",
    "print_pattern(n)"
   ]
  },
  {
   "cell_type": "code",
   "execution_count": 3,
   "id": "09219474-63c2-4434-a14e-9d08b2a54334",
   "metadata": {},
   "outputs": [
    {
     "name": "stdin",
     "output_type": "stream",
     "text": [
      "Enter Your Number : 5\n"
     ]
    },
    {
     "name": "stdout",
     "output_type": "stream",
     "text": [
      "1 \n",
      "2 2 \n",
      "3 3 3 \n",
      "4 4 4 4 \n",
      "5 5 5 5 5 \n"
     ]
    }
   ],
   "source": [
    "n = int(input(\"Enter Your Number :\"))\n",
    "def print_pattern_2(n):\n",
    "    for i in range(1,n+1):\n",
    "        for j in range(1,i+1):\n",
    "            print(i,end=\" \")\n",
    "        print()\n",
    "\n",
    "print_pattern_2(n)"
   ]
  },
  {
   "cell_type": "code",
   "execution_count": 4,
   "id": "31b3a87b-d59a-44d1-8a34-0adb159f7fbb",
   "metadata": {},
   "outputs": [
    {
     "name": "stdin",
     "output_type": "stream",
     "text": [
      "Enter the number : 4\n"
     ]
    },
    {
     "name": "stdout",
     "output_type": "stream",
     "text": [
      "* * * * \n",
      "* * * \n",
      "* * \n",
      "* \n"
     ]
    }
   ],
   "source": [
    "n = int(input(\"Enter the number :\"))\n",
    "def void_print(n):\n",
    "    for i in range(1,n+1):\n",
    "        for j in range(1,n+2-i):\n",
    "            print(\"*\",end=\" \")\n",
    "        print()\n",
    "\n",
    "void_print(n)"
   ]
  },
  {
   "cell_type": "code",
   "execution_count": 1,
   "id": "5e152bef-20dc-4826-94e9-766d4b4c56e0",
   "metadata": {},
   "outputs": [
    {
     "name": "stdin",
     "output_type": "stream",
     "text": [
      "Enter the number : 5\n"
     ]
    },
    {
     "name": "stdout",
     "output_type": "stream",
     "text": [
      "1 2 3 4 5 \n",
      "1 2 3 4 \n",
      "1 2 3 \n",
      "1 2 \n",
      "1 \n"
     ]
    }
   ],
   "source": [
    "n = int(input(\"Enter the number :\"))\n",
    "def print_pattern_3(n):\n",
    "    for i in range(1,n+1):\n",
    "        for j in range(1,n+2-i):\n",
    "            print(j,end=\" \")\n",
    "        print()\n",
    "\n",
    "print_pattern_3(n)"
   ]
  },
  {
   "cell_type": "code",
   "execution_count": 4,
   "id": "fbbcf4f8-8a38-466b-906d-69e91e312a44",
   "metadata": {},
   "outputs": [
    {
     "name": "stdin",
     "output_type": "stream",
     "text": [
      "Enter the number : 5\n"
     ]
    },
    {
     "name": "stdout",
     "output_type": "stream",
     "text": [
      "    *\n",
      "   ***\n",
      "  *****\n",
      " *******\n",
      "*********\n"
     ]
    }
   ],
   "source": [
    "n = int(input(\"Enter the number :\"))\n",
    "def tri_pattern(n):\n",
    "    for i in range(1,n+1):\n",
    "        print(\" \"*(n-i),end=\"\")\n",
    "        for j in range(2*i-1):\n",
    "            print(\"*\",end=\"\")\n",
    "        print()\n",
    "\n",
    "tri_pattern(n)"
   ]
  },
  {
   "cell_type": "code",
   "execution_count": 2,
   "id": "fa0b424b-f0a5-45fd-b444-cb4409950d86",
   "metadata": {},
   "outputs": [
    {
     "name": "stdin",
     "output_type": "stream",
     "text": [
      "Enter your number : 5\n"
     ]
    },
    {
     "name": "stdout",
     "output_type": "stream",
     "text": [
      "*********\n",
      " *******\n",
      "  *****\n",
      "   ***\n",
      "    *\n"
     ]
    }
   ],
   "source": [
    "n = int(input(\"Enter your number :\"))\n",
    "def reverse_pattern(n):\n",
    "    for i in range(0,n):\n",
    "        print(\" \"*i,end=\"\")\n",
    "        for j in range(2*(n-i)-1):\n",
    "            print(\"*\",end=\"\")\n",
    "        print()\n",
    "\n",
    "reverse_pattern(n)"
   ]
  },
  {
   "cell_type": "code",
   "execution_count": 2,
   "id": "aa33f2e9-b83f-4ea2-862a-d199dd88ff39",
   "metadata": {},
   "outputs": [
    {
     "name": "stdin",
     "output_type": "stream",
     "text": [
      "Enter Your Number : 5\n"
     ]
    },
    {
     "name": "stdout",
     "output_type": "stream",
     "text": [
      "    *\n",
      "   ***\n",
      "  *****\n",
      " *******\n",
      "*********\n",
      "*********\n",
      " *******\n",
      "  *****\n",
      "   ***\n",
      "    *\n"
     ]
    }
   ],
   "source": [
    "n = int(input(\"Enter Your Number :\"))\n",
    "def star_pattern(n):\n",
    "    for i in range(1,n+1):\n",
    "        print(\" \"*(n-i),end=\"\")\n",
    "        for j in range(2*i-1):\n",
    "            print(\"*\",end=\"\")\n",
    "        print()\n",
    "    for i in range(n,0,-1):\n",
    "        print(\" \"*(n-i),end=\"\")\n",
    "        for j in range(2*i-1):\n",
    "            print(\"*\",end=\"\")\n",
    "        print()\n",
    "\n",
    "star_pattern(n)"
   ]
  },
  {
   "cell_type": "code",
   "execution_count": null,
   "id": "7491c180-c4c8-4b44-9ff2-4c7f717c56b5",
   "metadata": {},
   "outputs": [],
   "source": []
  },
  {
   "cell_type": "code",
   "execution_count": null,
   "id": "96bd9bb1-3336-4eb1-91a2-31f7929e0567",
   "metadata": {},
   "outputs": [],
   "source": []
  },
  {
   "cell_type": "code",
   "execution_count": null,
   "id": "aa1328f1-adc8-44ec-89c7-128ce1ed9ca3",
   "metadata": {},
   "outputs": [],
   "source": []
  },
  {
   "cell_type": "code",
   "execution_count": null,
   "id": "21b8b773-c26f-415b-85ca-03d380a384a2",
   "metadata": {},
   "outputs": [],
   "source": []
  },
  {
   "cell_type": "code",
   "execution_count": null,
   "id": "6de52d80-6dbc-48c3-9c39-985a9c5f17d8",
   "metadata": {},
   "outputs": [],
   "source": []
  },
  {
   "cell_type": "code",
   "execution_count": null,
   "id": "a56bab50-f2bf-4153-b786-7d52cc8e9e67",
   "metadata": {},
   "outputs": [],
   "source": []
  },
  {
   "cell_type": "code",
   "execution_count": null,
   "id": "c7dc3a78-91b2-464a-adda-0efae3a1199b",
   "metadata": {},
   "outputs": [],
   "source": []
  }
 ],
 "metadata": {
  "kernelspec": {
   "display_name": "Python 3 (ipykernel)",
   "language": "python",
   "name": "python3"
  },
  "language_info": {
   "codemirror_mode": {
    "name": "ipython",
    "version": 3
   },
   "file_extension": ".py",
   "mimetype": "text/x-python",
   "name": "python",
   "nbconvert_exporter": "python",
   "pygments_lexer": "ipython3",
   "version": "3.13.0"
  }
 },
 "nbformat": 4,
 "nbformat_minor": 5
}
