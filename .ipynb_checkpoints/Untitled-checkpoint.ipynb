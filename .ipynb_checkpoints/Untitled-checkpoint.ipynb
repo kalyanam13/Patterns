{
 "cells": [
  {
   "cell_type": "code",
   "execution_count": 7,
   "id": "84816ea7-19d7-445e-88b2-b725903add2a",
   "metadata": {},
   "outputs": [
    {
     "name": "stdin",
     "output_type": "stream",
     "text": [
      "Enter your number : 5\n"
     ]
    },
    {
     "name": "stdout",
     "output_type": "stream",
     "text": [
      "* * * * * \n",
      "* * * * * \n",
      "* * * * * \n",
      "* * * * * \n",
      "* * * * * \n"
     ]
    }
   ],
   "source": [
    "\n",
    "n = int(input(\"Enter your number :\"))\n",
    "def void(n):\n",
    "    for i in range(1,n+1):\n",
    "        for j in range(1,n+1):\n",
    "            print(\"*\",end=\" \")\n",
    "        print()\n",
    "\n",
    "\n",
    "void(n)\n"
   ]
  },
  {
   "cell_type": "code",
   "execution_count": 8,
   "id": "8bac8aa6-5a12-48ee-adf4-70f19e752cc7",
   "metadata": {},
   "outputs": [
    {
     "name": "stdin",
     "output_type": "stream",
     "text": [
      "Enter your number:  5\n"
     ]
    },
    {
     "name": "stdout",
     "output_type": "stream",
     "text": [
      "* \n",
      "* * \n",
      "* * * \n",
      "* * * * \n",
      "* * * * * \n",
      "* * * * * * \n"
     ]
    }
   ],
   "source": [
    "n = int(input(\"Enter your number: \"))\n",
    "\n",
    "def print_pattern(n):\n",
    "    for i in range(n+1):\n",
    "        for j in range(i+1):\n",
    "            print(\"*\", end=\" \")\n",
    "        print()\n",
    "\n",
    "print_pattern(n)"
   ]
  },
  {
   "cell_type": "code",
   "execution_count": null,
   "id": "509a50ac-78b6-4b46-85c6-97b63f8c1aa2",
   "metadata": {},
   "outputs": [],
   "source": []
  },
  {
   "cell_type": "code",
   "execution_count": null,
   "id": "09219474-63c2-4434-a14e-9d08b2a54334",
   "metadata": {},
   "outputs": [],
   "source": []
  },
  {
   "cell_type": "code",
   "execution_count": null,
   "id": "31b3a87b-d59a-44d1-8a34-0adb159f7fbb",
   "metadata": {},
   "outputs": [],
   "source": []
  },
  {
   "cell_type": "code",
   "execution_count": null,
   "id": "5e152bef-20dc-4826-94e9-766d4b4c56e0",
   "metadata": {},
   "outputs": [],
   "source": []
  },
  {
   "cell_type": "code",
   "execution_count": null,
   "id": "fbbcf4f8-8a38-466b-906d-69e91e312a44",
   "metadata": {},
   "outputs": [],
   "source": []
  },
  {
   "cell_type": "code",
   "execution_count": null,
   "id": "c7dc3a78-91b2-464a-adda-0efae3a1199b",
   "metadata": {},
   "outputs": [],
   "source": []
  }
 ],
 "metadata": {
  "kernelspec": {
   "display_name": "Python 3 (ipykernel)",
   "language": "python",
   "name": "python3"
  },
  "language_info": {
   "codemirror_mode": {
    "name": "ipython",
    "version": 3
   },
   "file_extension": ".py",
   "mimetype": "text/x-python",
   "name": "python",
   "nbconvert_exporter": "python",
   "pygments_lexer": "ipython3",
   "version": "3.13.0"
  }
 },
 "nbformat": 4,
 "nbformat_minor": 5
}
